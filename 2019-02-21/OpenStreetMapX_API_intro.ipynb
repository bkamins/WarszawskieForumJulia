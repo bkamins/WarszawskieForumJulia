{
 "cells": [
  {
   "cell_type": "markdown",
   "metadata": {},
   "source": [
    "# OpenStreetMapX"
   ]
  },
  {
   "cell_type": "markdown",
   "metadata": {},
   "source": [
    "Biblioteka [OpenStreetMapX](https://github.com/pszufe/OpenStreetMapX.jl) pozwala  pracować na plikach <tt>.osm</tt> za pomocą języka Julia. Jest w całości napisana w Julii, jej kluczowe funkcje można podzielić na podstawowe kategorie:\n",
    "\n",
    "- praca z danymi przestrzennymi;\n",
    "- import i parsowanie plików mapowych;\n",
    "- tworzenie grafu reprezentującego sieć drogową;\n",
    "- algorytmy wyznaczania tras."
   ]
  },
  {
   "cell_type": "code",
   "execution_count": 2,
   "metadata": {},
   "outputs": [],
   "source": [
    "using OpenStreetMapX"
   ]
  },
  {
   "cell_type": "markdown",
   "metadata": {},
   "source": [
    "## 1. Praca z danymi przestrzennymi"
   ]
  },
  {
   "cell_type": "markdown",
   "metadata": {},
   "source": [
    "Podstawową funkcją na jaką pozwala biblioteka [OpenStreetMapX](https://github.com/pszufe/OpenStreetMapX.jl) jest praca na danych przestrzennych. W ramach biblioteki [zaimplementowane zostały 3 podstawowe systemy współrzędnych geograficznych:](https://en.wikipedia.org/wiki/Geographic_coordinate_system)\n",
    "- <b>Latitude-Longitude-Altitude</b> (LLA)\n",
    "- <b>Earth-centered, Earth-fixed (ECEF)</b> [![ECEF](https://upload.wikimedia.org/wikipedia/commons/8/88/Ecef.png \"ECEF\")](https://en.wikipedia.org/wiki/ECEF)\n",
    "- <b>East, North, Up</b> (ENU) [![ENU](https://upload.wikimedia.org/wikipedia/commons/thumb/7/73/ECEF_ENU_Longitude_Latitude_relationships.svg/800px-ECEF_ENU_Longitude_Latitude_relationships.svg.png \"ENU\")](https://en.wikipedia.org/wiki/Local_tangent_plane_coordinates)\n"
   ]
  },
  {
   "cell_type": "markdown",
   "metadata": {},
   "source": [
    "Wszystkie systemy zostały zaiplementowane jako [oddzielne typy danych](https://github.com/pszufe/OpenStreetMapX.jl/blob/master/src/types.jl), wraz z konstruktorem <tt>XYZ</tt>, dzięki któremu ułatwia tworzenie i modyfikowanie koordynat:"
   ]
  },
  {
   "cell_type": "code",
   "execution_count": 7,
   "metadata": {},
   "outputs": [
    {
     "data": {
      "text/plain": [
       "OpenStreetMapX.XYZ(52.208842, 21.00856, 0.0)"
      ]
     },
     "execution_count": 7,
     "metadata": {},
     "output_type": "execute_result"
    }
   ],
   "source": [
    "SGH = OpenStreetMapX.XYZ(52.208842, 21.008560, 0.0)"
   ]
  },
  {
   "cell_type": "code",
   "execution_count": 8,
   "metadata": {},
   "outputs": [
    {
     "data": {
      "text/plain": [
       "LLA(21.00856, 52.208842, 0.0)"
      ]
     },
     "execution_count": 8,
     "metadata": {},
     "output_type": "execute_result"
    }
   ],
   "source": [
    "SGH_LLA = OpenStreetMapX.LLA(SGH)"
   ]
  },
  {
   "cell_type": "markdown",
   "metadata": {},
   "source": [
    "Oczywiście możliwa jest też [konwersja pomiędzy różnymi systemami;](https://en.wikipedia.org/wiki/Geographic_coordinate_conversion) w tym celu konieczne jest wykorzystanie dwóch kolejnych pojęć zdefiniowanych w ramach biblioteki:\n",
    "- elipsoidy ([biblioteka pozwala na zdefiniowanie własnej](https://github.com/pszufe/OpenStreetMapX.jl/blob/master/src/types.jl#L101) lub [wykorzystanie jednej ze standardowych](https://github.com/pszufe/OpenStreetMapX.jl/blob/master/src/points.jl))\n",
    "- [granic obszaru i punktu referencyjnego](https://github.com/pszufe/OpenStreetMapX.jl/blob/master/src/bounds.jl) w przypadku współrzędnych lokalnych (ENU)."
   ]
  },
  {
   "cell_type": "markdown",
   "metadata": {},
   "source": [
    "[Konwersja](https://github.com/pszufe/OpenStreetMapX.jl/blob/master/src/conversion.jl) jest prosta i intuicyjna - wystarczy wykorzystać odpowiednią funkcję (której nazwa odpowiada systemowi na który chcemy przekonwertować współrzędne):"
   ]
  },
  {
   "cell_type": "code",
   "execution_count": 9,
   "metadata": {},
   "outputs": [
    {
     "data": {
      "text/plain": [
       "ECEF(3.6501926662423294e6, 4.707299855716553e6, 2.2722797836972033e6)"
      ]
     },
     "execution_count": 9,
     "metadata": {},
     "output_type": "execute_result"
    }
   ],
   "source": [
    "SGH_ECEF = OpenStreetMapX.ECEF(SGH_LLA)"
   ]
  },
  {
   "cell_type": "markdown",
   "metadata": {},
   "source": [
    "Ponadto możliwe jest konwertowanie całych kolekcji punktów, a nie tylko pojedynczych z nich."
   ]
  },
  {
   "cell_type": "markdown",
   "metadata": {},
   "source": [
    "## 2. Import i parsowanie plików mapowych"
   ]
  },
  {
   "cell_type": "markdown",
   "metadata": {},
   "source": [
    "Aby lepiej zrozumieć sposób działania biblioteki rozpatrzmy prosty przykład. Wczytajmy plik z mapą Winnipeg w Kanadzie:"
   ]
  },
  {
   "cell_type": "code",
   "execution_count": 13,
   "metadata": {},
   "outputs": [],
   "source": [
    "pth = \"C:\\\\Users\\\\p\\\\Desktop\\\\learningsimdata\";\n",
    "name = \"Winnipeg CMA.osm\";"
   ]
  },
  {
   "cell_type": "code",
   "execution_count": 41,
   "metadata": {},
   "outputs": [
    {
     "name": "stdout",
     "output_type": "stream",
     "text": [
      " 32.257581 seconds (113.43 M allocations: 7.912 GiB, 30.48% gc time)\n"
     ]
    }
   ],
   "source": [
    "@time map = OpenStreetMapX.parseOSM(joinpath(pth,name));"
   ]
  },
  {
   "attachments": {},
   "cell_type": "markdown",
   "metadata": {},
   "source": [
    "Aby zapewnić sprawne działanie kodu, kluczowe jest działania [parsera](https://github.com/pszufe/OpenStreetMapX.jl/blob/master/src/parseMap.jl#L60), który będzie w stanie w efektywny sposób wczytać i przygotować do pracy plik <tt>.osm</tt>. Opiera się on na lekkiej [implementacji](https://github.com/JuliaIO/LibExpat.jl) parsera plików <tt>XML</tt> [Expat](https://libexpat.github.io/) i tworzy obiekt typu [<tt>OSMData</tt>](https://github.com/pszufe/OpenStreetMapX.jl/blob/master/src/types.jl#L185), który przechowuje cztery podstawowe typy prymitywne:\n",
    "- Węzły (<b>nodes</b>) – pojedyncze punkty określone za pomocą ich współrzędnych geograficznych.\n",
    "- Linie (<b>ways</b>) – uporządkowane listy węzłów służące do opisania polilinii (linii łamanych) i wielokątów (np. dróg, budynków).\n",
    "- Relacje (<b>relations</b>) – uporządkowane listy zawierające w sobie zarówno węzły, linie jak i inne relacja (nazywane członkami (members)), które dodatkowo mogą mieć przypisaną rolę (role). Służą do opisywania złożonych elementów przestrzeni, np. autostrad czy też linii autobusowych.\n",
    "- Tagi (<b>tags</b>) – para klucz-wartość służąca do przechowywania metadanych (charakterystyk – features) powyższych elementów mapy. Posiada określony sposób kodowania. \n"
   ]
  },
  {
   "cell_type": "code",
   "execution_count": 17,
   "metadata": {},
   "outputs": [
    {
     "data": {
      "text/plain": [
       "(:nodes, :ways, :relations, :features, :bounds, :way_tags, :relation_tags)"
      ]
     },
     "execution_count": 17,
     "metadata": {},
     "output_type": "execute_result"
    }
   ],
   "source": [
    "fieldnames(OpenStreetMapX.OSMData)"
   ]
  },
  {
   "cell_type": "code",
   "execution_count": 43,
   "metadata": {},
   "outputs": [],
   "source": [
    "map.bounds;"
   ]
  },
  {
   "cell_type": "code",
   "execution_count": 24,
   "metadata": {},
   "outputs": [],
   "source": [
    "map.nodes;"
   ]
  },
  {
   "cell_type": "code",
   "execution_count": 26,
   "metadata": {},
   "outputs": [],
   "source": [
    "map.features;"
   ]
  },
  {
   "cell_type": "code",
   "execution_count": 30,
   "metadata": {},
   "outputs": [],
   "source": [
    "map.ways;"
   ]
  },
  {
   "cell_type": "code",
   "execution_count": 33,
   "metadata": {},
   "outputs": [],
   "source": [
    "map.way_tags;"
   ]
  },
  {
   "cell_type": "code",
   "execution_count": 34,
   "metadata": {},
   "outputs": [],
   "source": [
    "map.relations;"
   ]
  },
  {
   "cell_type": "code",
   "execution_count": 36,
   "metadata": {},
   "outputs": [],
   "source": [
    "map.relation_tags;"
   ]
  },
  {
   "cell_type": "markdown",
   "metadata": {},
   "source": [
    "Biblioteka umożliwia też [przycinanie wczytanych danych](https://github.com/pszufe/OpenStreetMapX.jl/blob/master/src/crop.jl) do odpowiedniego rozmiaru przy wykorzystaniu podanych powyżej granic:"
   ]
  },
  {
   "cell_type": "code",
   "execution_count": 37,
   "metadata": {
    "collapsed": true
   },
   "outputs": [],
   "source": [
    "map = OpenStreetMapX.crop!(map)"
   ]
  },
  {
   "cell_type": "markdown",
   "metadata": {},
   "source": [
    "Typy prymitiwne są zdefiniowane w ogólny sposób, aby możliwa była dalsza na nich praca konieczne jest stworzenie odpowiednich narzędzi dzięki którym możliwe będzie ich [filtrowanie (oddzielenie dróg od budynków, etc.) i klasyfikowanie](https://github.com/pszufe/OpenStreetMapX.jl/blob/master/src/classification.jl):"
   ]
  },
  {
   "cell_type": "code",
   "execution_count": 49,
   "metadata": {},
   "outputs": [],
   "source": [
    "roads = OpenStreetMapX.extract_highways(map.ways); #drogi wewnątrz biblioteki"
   ]
  },
  {
   "cell_type": "code",
   "execution_count": 48,
   "metadata": {},
   "outputs": [],
   "source": [
    "buildings = OpenStreetMapX.extract_buildings(map.ways); #budynki"
   ]
  },
  {
   "cell_type": "markdown",
   "metadata": {},
   "source": [
    "Klasyfikacja i filtrowanie odbywają się za pomocą odpowiednich zdefiniowanych [kategorii:](https://github.com/pszufe/OpenStreetMapX.jl/blob/master/src/classes.jl)"
   ]
  },
  {
   "cell_type": "code",
   "execution_count": 63,
   "metadata": {},
   "outputs": [],
   "source": [
    "roadways = OpenStreetMapX.filter_roadways(roads); #drogi dla samochodów"
   ]
  },
  {
   "cell_type": "code",
   "execution_count": 64,
   "metadata": {},
   "outputs": [],
   "source": [
    "highways = OpenStreetMapX.filter_roadways(roads,levels =  Set(1)); #jedynie autostrady"
   ]
  },
  {
   "cell_type": "code",
   "execution_count": 62,
   "metadata": {},
   "outputs": [],
   "source": [
    "roadways_classes = OpenStreetMapX.classify_roadways(roadways); #mapowanie dróg na kategorie"
   ]
  },
  {
   "cell_type": "markdown",
   "metadata": {},
   "source": [
    "Możliwe jest też wyciąganie kluczowych [charakterystyk](https://github.com/pszufe/OpenStreetMapX.jl/blob/master/src/intersections.jl#L7) [dróg](https://github.com/pszufe/OpenStreetMapX.jl/blob/master/src/classification.jl#L5) z ich tagów:"
   ]
  },
  {
   "cell_type": "code",
   "execution_count": 66,
   "metadata": {
    "scrolled": true
   },
   "outputs": [
    {
     "data": {
      "text/plain": [
       "2"
      ]
     },
     "execution_count": 66,
     "metadata": {},
     "output_type": "execute_result"
    }
   ],
   "source": [
    "OpenStreetMapX.getlanes(highways[4])"
   ]
  },
  {
   "cell_type": "code",
   "execution_count": 67,
   "metadata": {},
   "outputs": [
    {
     "data": {
      "text/plain": [
       "true"
      ]
     },
     "execution_count": 67,
     "metadata": {},
     "output_type": "execute_result"
    }
   ],
   "source": [
    "OpenStreetMapX.oneway(highways[4])"
   ]
  },
  {
   "cell_type": "markdown",
   "metadata": {},
   "source": [
    "Biblioteka pozwala także na pracę na węzłach pliku mapowego. Na przykład [dodawanie nowych](https://github.com/pszufe/OpenStreetMapX.jl/blob/master/src/nodes.jl#L5):"
   ]
  },
  {
   "cell_type": "code",
   "execution_count": 74,
   "metadata": {},
   "outputs": [
    {
     "data": {
      "text/plain": [
       "5279456212340186414"
      ]
     },
     "execution_count": 74,
     "metadata": {},
     "output_type": "execute_result"
    }
   ],
   "source": [
    "OpenStreetMapX.add_new_node!(map.nodes, LLA(49.152,-96))"
   ]
  },
  {
   "cell_type": "markdown",
   "metadata": {},
   "source": [
    "Wyszukiwanie [najbliższego węzła](https://github.com/pszufe/OpenStreetMapX.jl/blob/master/src/nodes.jl#L20):"
   ]
  },
  {
   "cell_type": "code",
   "execution_count": 80,
   "metadata": {},
   "outputs": [],
   "source": [
    "point = OpenStreetMapX.ENU(LLA(49.153,-98.39), center(map.bounds));\n",
    "nodes = OpenStreetMapX.ENU(map.nodes, center(map.bounds));"
   ]
  },
  {
   "cell_type": "code",
   "execution_count": 86,
   "metadata": {},
   "outputs": [],
   "source": [
    "OpenStreetMapX.nearest_node(nodes, point);"
   ]
  },
  {
   "cell_type": "markdown",
   "metadata": {},
   "source": [
    "Węzłów w [określonym promieniu](https://github.com/pszufe/OpenStreetMapX.jl/blob/master/src/nodes.jl#L63):"
   ]
  },
  {
   "cell_type": "code",
   "execution_count": 85,
   "metadata": {},
   "outputs": [],
   "source": [
    "OpenStreetMapX.nodes_within_range(nodes, point, 500.0);"
   ]
  },
  {
   "cell_type": "markdown",
   "metadata": {},
   "source": [
    "a także [centroidów](https://github.com/pszufe/OpenStreetMapX.jl/blob/master/src/nodes.jl#L100)."
   ]
  },
  {
   "cell_type": "markdown",
   "metadata": {},
   "source": [
    "## 3. Tworzenie grafu reprezentującego sieć drogową\n"
   ]
  },
  {
   "cell_type": "markdown",
   "metadata": {},
   "source": [
    "Biblioteka umożliwia stworzenie skierowanego grafu, który reprezentuje sieć drogową dowolnego pliku <tt>osm</tt>. Graf zbudowany jest za pomocą biblioteki [<tt>LightGraphs.jl](https://github.com/JuliaGraphs/LightGraphs.jl), dzięki czemu możliwe jest wykorzystanie zaimplementowanych w niej metod. Sieć drogową reprezentuje obiekt typu [<tt>MapData</tt>](https://github.com/pszufe/OpenStreetMapX.jl/blob/master/src/types.jl#L228):"
   ]
  },
  {
   "cell_type": "code",
   "execution_count": null,
   "metadata": {
    "collapsed": true
   },
   "outputs": [],
   "source": [
    "struct MapData\n",
    "    bounds::Bounds{LLA}\n",
    "    nodes::Dict{Int,ENU}\n",
    "    roadways::Array{Way,1}\n",
    "    intersections::Dict{Int,Set{Int}}\n",
    "    # Transporation network graph data and helpers to increase routing speed\n",
    "    g::LightGraphs.SimpleGraphs.SimpleDiGraph{Int64} # Graph object\n",
    "    v::Dict{Int,Int}                             # (node id) => (graph vertex)\n",
    "    e::Array{Tuple{Int64,Int64},1}                # Edges in graph, stored as a tuple (source,destination)\n",
    "    w::SparseArrays.SparseMatrixCSC{Float64, Int}   # Edge weights, indexed by graph id\n",
    "    class::Vector{Int}                           # Road class of each edge\n",
    "\t#MapData(bounds, nodes, roadways, intersections) = new(bounds, nodes, roadways, intersections, LightGraphs.SimpleGraphs.SimpleDiGraph{Int64}(), Dict{Int,Int}(), Tuple{Int64,Int64}[],  SparseMatrixCSC(Matrix{Float64}(undef,0,0)),Int[])\n",
    "end"
   ]
  },
  {
   "cell_type": "markdown",
   "metadata": {},
   "source": [
    "Do tworzenia grafu wykorzystywane są dwa kolejne typy danych: [segmenty](https://github.com/pszufe/OpenStreetMapX.jl/blob/master/src/types.jl#L174) (odcinki dróg od skrzyżowania do skrzyżowania) i [skrzyżowania](https://github.com/pszufe/OpenStreetMapX.jl/blob/master/src/intersections.jl#L33) (zbiory odcinków, które przecinają się w danym węźle)."
   ]
  },
  {
   "cell_type": "markdown",
   "metadata": {},
   "source": [
    "Graf tworzy funkcja [get_map_data](https://github.com/pszufe/OpenStreetMapX.jl/blob/master/src/parseMap.jl#L86), która pozwala na wybór tego czy graf ma zawierać wszystkie węzły czy też tylko skrzyżowania dróg."
   ]
  },
  {
   "cell_type": "code",
   "execution_count": 90,
   "metadata": {},
   "outputs": [],
   "source": [
    "map_data =  OpenStreetMapX.get_map_data(pth,name,use_cache = false);"
   ]
  },
  {
   "cell_type": "markdown",
   "metadata": {},
   "source": [
    "## 4. Algorytmy wyznaczania tras"
   ]
  },
  {
   "cell_type": "markdown",
   "metadata": {},
   "source": [
    "Dla gotowego grafu możliwe jest wyznaczania tras pomiędzy punktami A i B. Można to robić dwojako:\n",
    "- za pomocą algorytmów wyszukiwania najktórszej ścieżki zaimplementowanych w bibliotece\n",
    "- za pomocą odpytania <b>[Google Directions API](https://developers.google.com/maps/documentation/directions/start)</b>"
   ]
  },
  {
   "cell_type": "markdown",
   "metadata": {},
   "source": [
    "### 4.1. Algorytmy najkrószej ścieżki"
   ]
  },
  {
   "cell_type": "markdown",
   "metadata": {},
   "source": [
    "Wyszukiwanie najkrótszej ścieżki jest zaimplentowane z wykorzystaniem zawartej w bibliotece <tt>LightGraphs.jl</tt> [implementacji algorytmu Dijkstry](https://github.com/JuliaGraphs/LightGraphs.jl/blob/master/src/shortestpaths/dijkstra.jl). Wybór ścieżki kontroluje funkcja [<tt>find_route</tt>](https://github.com/pszufe/OpenStreetMapX.jl/blob/master/src/routing.jl#L139), która pozwala na wyznaczenie ścieżki dla dowolnej pary wierzchołków grafu przy wykorzystaniu dowolnej macierzy wag (definiowanej jako [macierz rzadka):](https://docs.julialang.org/en/v1.1/stdlib/SparseArrays/#Sparse-Arrays-1)"
   ]
  },
  {
   "cell_type": "code",
   "execution_count": 97,
   "metadata": {},
   "outputs": [],
   "source": [
    "A = OpenStreetMapX.point_to_nodes(OpenStreetMapX.generate_point_in_bounds(map_data), map_data);\n",
    "B = OpenStreetMapX.point_to_nodes(OpenStreetMapX.generate_point_in_bounds(map_data), map_data);"
   ]
  },
  {
   "cell_type": "code",
   "execution_count": 98,
   "metadata": {},
   "outputs": [
    {
     "data": {
      "text/plain": [
       "4-element Array{Any,1}:\n",
       "       [2110154909, 2110155355, 2110148981, 2110148095, 2110146531, 2110143918, 2110141846, 2110141472, 2110140990, 2110140378  …  571663906, 1998846174, 571663895, 339923734, 1998846204, 421392250, 1987878251, 1987878333, 1987878307, 1987878294]\n",
       " 114743.29393174646                                                                                                                                                                                                                                   \n",
       " 114743.29393174646                                                                                                                                                                                                                                   \n",
       "   6602.120007085567                                                                                                                                                                                                                                  "
      ]
     },
     "execution_count": 98,
     "metadata": {},
     "output_type": "execute_result"
    }
   ],
   "source": [
    "route = OpenStreetMapX.find_route(map_data, A,B,\n",
    "    map_data.w, true, true)"
   ]
  },
  {
   "cell_type": "markdown",
   "metadata": {},
   "source": [
    "Zaimplementowane są także dwie formy tego algorytmu, które pozwalają na wyznaczenia <b>najkrótszej trasy</b> (wykorzystując do tego zdefiniowane w pliku <tt>MapData</tt> odległości pomiędzy węzłami) i <b>najszybszej trasy</b> (gdzie czasy przejazdu pomiędzy węzłami są wyznaczane za pomocą zdefiniowanych [ograniczeń prędkości na danym typie drogi](https://github.com/pszufe/OpenStreetMapX.jl/blob/master/src/speeds.jl))."
   ]
  },
  {
   "cell_type": "code",
   "execution_count": 99,
   "metadata": {},
   "outputs": [
    {
     "data": {
      "text/plain": [
       "([2110154909, 2110155355, 2110148981, 2110148095, 2110146531, 2110143918, 2110141846, 2110141472, 2110140990, 2110140378  …  571663906, 1998846174, 571663895, 339923734, 1998846204, 421392250, 1987878251, 1987878333, 1987878307, 1987878294], 114743.29393174646, 6602.120007085567)"
      ]
     },
     "execution_count": 99,
     "metadata": {},
     "output_type": "execute_result"
    }
   ],
   "source": [
    "shortest_route = OpenStreetMapX.shortest_route(map_data, A,B)"
   ]
  },
  {
   "cell_type": "code",
   "execution_count": 100,
   "metadata": {},
   "outputs": [
    {
     "data": {
      "text/plain": [
       "([2110154909, 2110155355, 2110148981, 2110148095, 2110146531, 2110143918, 2110141846, 2110141472, 2110140990, 2110140378  …  421392250, 1998846188, 1987878339, 1987878283, 441073257, 441073252, 421392248, 3928833134, 1987878265, 1987878294], 121289.56985907798, 5195.834974360792)"
      ]
     },
     "execution_count": 100,
     "metadata": {},
     "output_type": "execute_result"
    }
   ],
   "source": [
    "fastest_route = OpenStreetMapX.fastest_route(map_data, A,B)"
   ]
  },
  {
   "cell_type": "markdown",
   "metadata": {},
   "source": [
    "Ponadto możliwe jest wyznaczenie trasy dla trzech punktów i wyszukanie takiego punktu pośredniego, który dla zadanych wag [minimalizuje trasę A-C-B](https://github.com/pszufe/OpenStreetMapX.jl/blob/master/src/routing.jl#L239)."
   ]
  },
  {
   "cell_type": "markdown",
   "metadata": {},
   "source": [
    "Biblioteka pozwala też na znalezienie wszystkich punktów dla których [czas przejazdu lub odległość jest mniejsza niż zadana wartość](https://github.com/pszufe/OpenStreetMapX.jl/blob/master/src/routing.jl#L277):"
   ]
  },
  {
   "cell_type": "code",
   "execution_count": 103,
   "metadata": {},
   "outputs": [
    {
     "data": {
      "text/plain": [
       "([2110161060, 2110167967, 2110169074, 2110165097, 2110109806, 2110116724, 2110177650, 2110195809, 2110160428, 2110163900  …  2110140731, 2110151288, 2110125241, 2110195812, 2110123296, 2110161203, 2110132311, 2110176017, 2110143475, 2110175112], [167.737, 355.681, 452.729, 273.309, 589.443, 493.913, 314.652, 552.519, 329.756, 254.326  …  274.618, 352.766, 396.414, 544.914, 434.038, 206.983, 509.949, 347.958, 214.97, 293.894])"
      ]
     },
     "execution_count": 103,
     "metadata": {},
     "output_type": "execute_result"
    }
   ],
   "source": [
    "OpenStreetMapX.nodes_within_driving_time(map_data,[A],600.0)"
   ]
  },
  {
   "cell_type": "markdown",
   "metadata": {},
   "source": [
    "### 4.2. Google Directions API"
   ]
  },
  {
   "cell_type": "markdown",
   "metadata": {},
   "source": [
    "Algorytmy najkrótszej ścieżki nie są jedynym sposobem na wyszukiwanie trasy zaimplementowanym w bibliotece <tt>OpenStreetMapX</tt>. Możliwe jest też skorzystanie z [Google Directions API](https://github.com/pszufe/OpenStreetMapX.jl/blob/master/src/google_routing.jl) (konieczne jest posiadanie odpowiedniego klucza):"
   ]
  },
  {
   "cell_type": "code",
   "execution_count": 104,
   "metadata": {
    "collapsed": true
   },
   "outputs": [],
   "source": [
    "googleapi = \"C:\\\\Users\\\\p\\\\Desktop\\\\datasets\\\\googleapi.key\";"
   ]
  },
  {
   "cell_type": "code",
   "execution_count": 106,
   "metadata": {},
   "outputs": [
    {
     "ename": "UndefVarError",
     "evalue": "UndefVarError: warn not defined",
     "output_type": "error",
     "traceback": [
      "UndefVarError: warn not defined",
      "",
      "Stacktrace:",
      " [1] #get_google_route#78(::Dict{Symbol,String}, ::Function, ::Int64, ::Int64, ::MapData, ::String) at C:\\Users\\p\\.julia\\packages\\OpenStreetMapX\\UMW54\\src\\google_routing.jl:200",
      " [2] get_google_route(::Int64, ::Int64, ::MapData, ::String) at C:\\Users\\p\\.julia\\packages\\OpenStreetMapX\\UMW54\\src\\google_routing.jl:188",
      " [3] top-level scope at In[106]:1"
     ]
    }
   ],
   "source": [
    "google_route = get_google_route(A,B,\n",
    "                            map_data,\n",
    "                            googleapi)"
   ]
  },
  {
   "attachments": {},
   "cell_type": "markdown",
   "metadata": {},
   "source": [
    "Wyniki Google'a zwracane są w formacie pliku [JSON](), który jest odpowiednio parsowany i wyciągane są z niego informacje na temat węzłów przez które przechodzi trasa. Mapy Google’a są szczegółowe i przechowują relatywnie dużo informacji na temat otoczenia, przez co pliki są zakodowane w formacie  [Encoded Polyline Algorithm](https://developers.google.com/maps/documentation/utilities/polylinealgorithm). W bibliotece zaimplementowane są [odpowiednie funkcje](https://github.com/pszufe/OpenStreetMapX.jl/blob/master/src/polyline.jl), które pozwalają na kodowanie/dekodowanie współrzędnych na ten format:"
   ]
  },
  {
   "cell_type": "code",
   "execution_count": 107,
   "metadata": {},
   "outputs": [
    {
     "data": {
      "text/plain": [
       "3-element Array{Tuple{Float64,Float64},1}:\n",
       " (38.5, -120.2)    \n",
       " (40.7, -120.95)   \n",
       " (43.252, -126.453)"
      ]
     },
     "execution_count": 107,
     "metadata": {},
     "output_type": "execute_result"
    }
   ],
   "source": [
    "OpenStreetMapX.decode(\"_p~iF~ps|U_ulLnnqC_mqNvxq`@\")"
   ]
  }
 ],
 "metadata": {
  "kernelspec": {
   "display_name": "Julia 1.0.0",
   "language": "julia",
   "name": "julia-1.0"
  },
  "language_info": {
   "file_extension": ".jl",
   "mimetype": "application/julia",
   "name": "julia",
   "version": "1.0.0"
  }
 },
 "nbformat": 4,
 "nbformat_minor": 2
}
